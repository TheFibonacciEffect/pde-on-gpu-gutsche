{
 "cells": [
  {
   "cell_type": "markdown",
   "source": [
    "## Exercise 3 - **Advection-diffusion in 2D**"
   ],
   "metadata": {}
  },
  {
   "cell_type": "markdown",
   "source": [
    "The goal of this exercise is to\n",
    "- Extend the advection-diffusion solver with implicit diffusion step from 1D to 2D\n",
    "- Implement the upwind advection scheme in 2D\n",
    "\n",
    "Create a code `implicit_advection_diffusion_2D.jl` for this exercise and add it to the `lecture3` folder in your private GitHub repo. Report the results of this exercise within a new section in the `README`."
   ],
   "metadata": {}
  },
  {
   "cell_type": "markdown",
   "source": [
    "### Task 1\n",
    "Repeat the steps from the Exercise 1 to make the implicit time-dependent 2D solver. Make a short animation showing the time evolution of the concentration field `C` during `nt=5` physical time steps."
   ],
   "metadata": {}
  },
  {
   "cell_type": "markdown",
   "source": [
    "### Task 2\n",
    "Add the advection step in a similar way to the 1D case from the previous exercise. Choose the time step according to the stability criterion:\n",
    "\n",
    "```julia\n",
    "dt = min(dx/abs(vx),dy/abs(vy))/2\n",
    "```\n",
    "\n",
    "Make a short animation showing the time evolution of the concentration field `C` during `nt=10` physical time steps."
   ],
   "metadata": {}
  }
 ],
 "nbformat_minor": 3,
 "metadata": {
  "language_info": {
   "file_extension": ".jl",
   "mimetype": "application/julia",
   "name": "julia",
   "version": "1.8.2"
  },
  "kernelspec": {
   "name": "julia-1.8",
   "display_name": "Julia 1.8.2",
   "language": "julia"
  }
 },
 "nbformat": 4
}
